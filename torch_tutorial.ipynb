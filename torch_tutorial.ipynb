{
 "cells": [
  {
   "cell_type": "code",
   "execution_count": 13,
   "metadata": {},
   "outputs": [
    {
     "name": "stdout",
     "output_type": "stream",
     "text": [
      "mps\n"
     ]
    }
   ],
   "source": [
    "import torch\n",
    "import numpy as np\n",
    "\n",
    "device = \"cuda\" if torch.cuda.is_available() else \"cpu\"\n",
    "device = \"mps\" if torch.backends.mps.is_available() else device\n",
    "print(device)\n",
    "torch.set_default_device(device)"
   ]
  },
  {
   "cell_type": "code",
   "execution_count": 14,
   "metadata": {},
   "outputs": [
    {
     "name": "stdout",
     "output_type": "stream",
     "text": [
      "tensor([[0.3893, 0.6359, 0.8808, 0.2603],\n",
      "        [0.2704, 0.5518, 0.8437, 0.9421],\n",
      "        [0.7444, 0.2635, 0.1945, 0.6280]], device='mps:0')\n"
     ]
    }
   ],
   "source": [
    "# Create a tensor with random values\n",
    "tensor = torch.rand(3, 4)\n",
    "print(tensor)"
   ]
  },
  {
   "cell_type": "code",
   "execution_count": 20,
   "metadata": {},
   "outputs": [
    {
     "name": "stdout",
     "output_type": "stream",
     "text": [
      "tensor([[1.0000, 1.0000, 1.0000, 1.0000],\n",
      "        [0.3893, 0.6359, 0.8808, 0.2603],\n",
      "        [0.2704, 0.5518, 0.8437, 0.9421],\n",
      "        [0.7444, 0.2635, 0.1945, 0.6280],\n",
      "        [0.0000, 0.0000, 0.0000, 0.0000]], device='mps:0')\n",
      "\n",
      "tensor([[1.0000, 0.3893, 0.6359, 0.8808, 0.2603, 0.0000],\n",
      "        [1.0000, 0.2704, 0.5518, 0.8437, 0.9421, 0.0000],\n",
      "        [1.0000, 0.7444, 0.2635, 0.1945, 0.6280, 0.0000]], device='mps:0')\n"
     ]
    }
   ],
   "source": [
    "t1 = torch.cat([torch.ones(1, 4), tensor, torch.zeros(1, 4)], dim=0)\n",
    "t2 = torch.cat([torch.ones(3, 1), tensor, torch.zeros(3, 1)], dim=1)\n",
    "print(t1)\n",
    "print()\n",
    "print(t2)"
   ]
  },
  {
   "cell_type": "code",
   "execution_count": null,
   "metadata": {},
   "outputs": [
    {
     "data": {
      "text/plain": [
       "tensor([[1.4041, 0.7788, 0.5929, 0.7159, 0.8236, 0.0000],\n",
       "        [1.4512, 0.5929, 0.7782, 1.0768, 0.8508, 0.0000],\n",
       "        [1.9190, 0.7159, 1.0768, 1.5254, 1.1463, 0.0000],\n",
       "        [1.8304, 0.8236, 0.8508, 1.1463, 1.3496, 0.0000]], device='mps:0')"
      ]
     },
     "execution_count": 30,
     "metadata": {},
     "output_type": "execute_result"
    }
   ],
   "source": [
    "tensor.T @ t2 # matrix multiplication"
   ]
  },
  {
   "cell_type": "code",
   "execution_count": 708,
   "metadata": {},
   "outputs": [
    {
     "data": {
      "text/plain": [
       "0.8255351185798645"
      ]
     },
     "execution_count": 708,
     "metadata": {},
     "output_type": "execute_result"
    }
   ],
   "source": [
    "tensor.T.mm(torch.rand(3,100000000)).mean().item()"
   ]
  },
  {
   "cell_type": "code",
   "execution_count": 562,
   "metadata": {},
   "outputs": [
    {
     "data": {
      "text/plain": [
       "0.8255819082260132"
      ]
     },
     "execution_count": 562,
     "metadata": {},
     "output_type": "execute_result"
    }
   ],
   "source": [
    "(tensor.sum(dim=0) / 2).mean().item()"
   ]
  },
  {
   "cell_type": "code",
   "execution_count": 710,
   "metadata": {},
   "outputs": [],
   "source": [
    "import os\n",
    "import torch\n",
    "from torch import nn\n",
    "from torch.utils.data import DataLoader\n",
    "from torchvision import datasets, transforms\n",
    "\n",
    "ds = datasets.FashionMNIST(\n",
    "    root=\"data\",\n",
    "    train=True,\n",
    "    download=True,\n",
    "    transform=transforms.ToTensor(),\n",
    "    target_transform=transforms.Lambda(lambda y: torch.zeros(10, dtype=torch.float).scatter_(0, torch.tensor(y), value=1))\n",
    ")"
   ]
  },
  {
   "cell_type": "code",
   "execution_count": 713,
   "metadata": {},
   "outputs": [
    {
     "name": "stdout",
     "output_type": "stream",
     "text": [
      "NeuralNetwork(\n",
      "  (flatten): Flatten(start_dim=1, end_dim=-1)\n",
      "  (linear_relu_stack): Sequential(\n",
      "    (0): Linear(in_features=784, out_features=512, bias=True)\n",
      "    (1): ReLU()\n",
      "    (2): Linear(in_features=512, out_features=512, bias=True)\n",
      "    (3): ReLU()\n",
      "    (4): Linear(in_features=512, out_features=10, bias=True)\n",
      "  )\n",
      ")\n"
     ]
    }
   ],
   "source": [
    "class NeuralNetwork(nn.Module):\n",
    "    def __init__(self):\n",
    "        super().__init__()\n",
    "        self.flatten = nn.Flatten()\n",
    "        self.linear_relu_stack = nn.Sequential(\n",
    "            nn.Linear(28*28, 512),\n",
    "            nn.ReLU(),\n",
    "            nn.Linear(512, 512),\n",
    "            nn.ReLU(),\n",
    "            nn.Linear(512, 10),\n",
    "        )\n",
    "\n",
    "    def forward(self, x):\n",
    "        x = self.flatten(x)\n",
    "        logits = self.linear_relu_stack(x)\n",
    "        return logits\n",
    "\n",
    "model = NeuralNetwork().to(device)\n",
    "print(model)"
   ]
  },
  {
   "cell_type": "code",
   "execution_count": 719,
   "metadata": {},
   "outputs": [
    {
     "name": "stdout",
     "output_type": "stream",
     "text": [
      "Predicted class: tensor([7], device='mps:0')\n"
     ]
    }
   ],
   "source": [
    "X = torch.rand(1, 28, 28, device=device)\n",
    "logits = model(X)\n",
    "pred_probab = nn.Softmax(dim=1)(logits)\n",
    "y_pred = pred_probab.argmax(1)\n",
    "print(f\"Predicted class: {y_pred}\")"
   ]
  },
  {
   "cell_type": "code",
   "execution_count": 720,
   "metadata": {},
   "outputs": [
    {
     "name": "stdout",
     "output_type": "stream",
     "text": [
      "torch.Size([3, 28, 28])\n"
     ]
    }
   ],
   "source": [
    "input_image = torch.rand(3,28,28)\n",
    "print(input_image.size())"
   ]
  },
  {
   "cell_type": "code",
   "execution_count": 721,
   "metadata": {},
   "outputs": [
    {
     "name": "stdout",
     "output_type": "stream",
     "text": [
      "torch.Size([3, 784])\n"
     ]
    }
   ],
   "source": [
    "flatten = nn.Flatten()\n",
    "flat_image = flatten(input_image)\n",
    "print(flat_image.size())"
   ]
  },
  {
   "cell_type": "code",
   "execution_count": 722,
   "metadata": {},
   "outputs": [
    {
     "name": "stdout",
     "output_type": "stream",
     "text": [
      "torch.Size([3, 20])\n"
     ]
    }
   ],
   "source": [
    "layer1 = nn.Linear(in_features=28*28, out_features=20)\n",
    "hidden1 = layer1(flat_image)\n",
    "print(hidden1.size())"
   ]
  },
  {
   "cell_type": "code",
   "execution_count": 723,
   "metadata": {},
   "outputs": [
    {
     "name": "stdout",
     "output_type": "stream",
     "text": [
      "Before ReLU: tensor([[ 0.0821, -0.2227,  0.1668,  0.0994, -0.0725,  0.5485,  0.1941,  0.5541,\n",
      "         -0.0943, -0.0867,  0.0338,  0.0634, -0.4099,  0.0293, -0.0606,  0.4025,\n",
      "          0.2113, -0.1499, -0.1027,  0.8937],\n",
      "        [-0.0141, -0.3880,  0.0390,  0.1374, -0.1624,  0.3601,  0.3256,  0.2113,\n",
      "         -0.1905, -0.2056, -0.0089,  0.2821, -0.1429, -0.0777,  0.0265,  0.3149,\n",
      "          0.3567, -0.0527, -0.5803,  0.6257],\n",
      "        [-0.0262, -0.4693,  0.0760,  0.2517,  0.0448,  0.4530,  0.0131,  0.4960,\n",
      "         -0.2585,  0.0574,  0.2073,  0.4530, -0.2400, -0.2312, -0.1886,  0.1444,\n",
      "          0.1624, -0.1995, -0.1772,  0.6203]], device='mps:0',\n",
      "       grad_fn=<LinearBackward0>)\n",
      "\n",
      "\n",
      "After ReLU: tensor([[0.0821, 0.0000, 0.1668, 0.0994, 0.0000, 0.5485, 0.1941, 0.5541, 0.0000,\n",
      "         0.0000, 0.0338, 0.0634, 0.0000, 0.0293, 0.0000, 0.4025, 0.2113, 0.0000,\n",
      "         0.0000, 0.8937],\n",
      "        [0.0000, 0.0000, 0.0390, 0.1374, 0.0000, 0.3601, 0.3256, 0.2113, 0.0000,\n",
      "         0.0000, 0.0000, 0.2821, 0.0000, 0.0000, 0.0265, 0.3149, 0.3567, 0.0000,\n",
      "         0.0000, 0.6257],\n",
      "        [0.0000, 0.0000, 0.0760, 0.2517, 0.0448, 0.4530, 0.0131, 0.4960, 0.0000,\n",
      "         0.0574, 0.2073, 0.4530, 0.0000, 0.0000, 0.0000, 0.1444, 0.1624, 0.0000,\n",
      "         0.0000, 0.6203]], device='mps:0', grad_fn=<ReluBackward0>)\n"
     ]
    }
   ],
   "source": [
    "print(f\"Before ReLU: {hidden1}\\n\\n\")\n",
    "hidden1 = nn.ReLU()(hidden1)\n",
    "print(f\"After ReLU: {hidden1}\")"
   ]
  },
  {
   "cell_type": "code",
   "execution_count": 724,
   "metadata": {},
   "outputs": [],
   "source": [
    "seq_modules = nn.Sequential(\n",
    "    flatten,\n",
    "    layer1,\n",
    "    nn.ReLU(),\n",
    "    nn.Linear(20, 10)\n",
    ")\n",
    "input_image = torch.rand(3,28,28)\n",
    "logits = seq_modules(input_image)"
   ]
  },
  {
   "cell_type": "code",
   "execution_count": 730,
   "metadata": {},
   "outputs": [],
   "source": [
    "softmax = nn.Softmax(dim=1)\n",
    "pred_probab = softmax(logits)"
   ]
  },
  {
   "cell_type": "code",
   "execution_count": 732,
   "metadata": {},
   "outputs": [
    {
     "name": "stdout",
     "output_type": "stream",
     "text": [
      "logits=tensor([[ 0.1177,  0.2050,  0.4395, -0.2335,  0.1863,  0.1656, -0.3903,  0.1878,\n",
      "          0.2588,  0.0432],\n",
      "        [ 0.0981,  0.1806,  0.4436, -0.2735,  0.1769,  0.3117, -0.3011,  0.1822,\n",
      "          0.2501, -0.0045],\n",
      "        [ 0.0134,  0.2218,  0.5660, -0.2199,  0.3498,  0.1629, -0.3376,  0.1760,\n",
      "          0.3138,  0.0840]], device='mps:0', grad_fn=<LinearBackward0>)\n",
      "pred_probab=tensor([[0.0995, 0.1086, 0.1373, 0.0700, 0.1066, 0.1044, 0.0599, 0.1067, 0.1146,\n",
      "         0.0924],\n",
      "        [0.0968, 0.1051, 0.1367, 0.0667, 0.1047, 0.1198, 0.0649, 0.1053, 0.1127,\n",
      "         0.0873],\n",
      "        [0.0860, 0.1059, 0.1495, 0.0681, 0.1204, 0.0999, 0.0605, 0.1012, 0.1161,\n",
      "         0.0923]], device='mps:0', grad_fn=<SoftmaxBackward0>)\n",
      "nn.Softmax(dim=0)(logits)=tensor([[0.3470, 0.3341, 0.3186, 0.3362, 0.3156, 0.3170, 0.3177, 0.3353, 0.3281,\n",
      "         0.3339],\n",
      "        [0.3403, 0.3261, 0.3199, 0.3230, 0.3127, 0.3669, 0.3474, 0.3334, 0.3252,\n",
      "         0.3183],\n",
      "        [0.3126, 0.3398, 0.3615, 0.3408, 0.3717, 0.3161, 0.3349, 0.3313, 0.3467,\n",
      "         0.3478]], device='mps:0', grad_fn=<SoftmaxBackward0>)\n"
     ]
    }
   ],
   "source": [
    "print(f'{logits=}')\n",
    "print(f'{pred_probab=}')\n",
    "print(f'{nn.Softmax(dim=0)(logits)=}')"
   ]
  },
  {
   "cell_type": "code",
   "execution_count": 733,
   "metadata": {},
   "outputs": [
    {
     "name": "stdout",
     "output_type": "stream",
     "text": [
      "Model structure: NeuralNetwork(\n",
      "  (flatten): Flatten(start_dim=1, end_dim=-1)\n",
      "  (linear_relu_stack): Sequential(\n",
      "    (0): Linear(in_features=784, out_features=512, bias=True)\n",
      "    (1): ReLU()\n",
      "    (2): Linear(in_features=512, out_features=512, bias=True)\n",
      "    (3): ReLU()\n",
      "    (4): Linear(in_features=512, out_features=10, bias=True)\n",
      "  )\n",
      ")\n",
      "\n",
      "\n",
      "Layer: linear_relu_stack.0.weight | Size: torch.Size([512, 784]) | Values : tensor([[-2.6595e-02,  3.5484e-02, -2.4074e-02,  ...,  2.9436e-02,\n",
      "         -1.0814e-06,  3.4782e-02],\n",
      "        [ 6.6162e-04, -2.5486e-02, -5.2703e-03,  ...,  3.1411e-02,\n",
      "          2.4849e-02, -1.2483e-05]], device='mps:0', grad_fn=<SliceBackward0>) \n",
      "\n",
      "Layer: linear_relu_stack.0.bias | Size: torch.Size([512]) | Values : tensor([-0.0263, -0.0042], device='mps:0', grad_fn=<SliceBackward0>) \n",
      "\n",
      "Layer: linear_relu_stack.2.weight | Size: torch.Size([512, 512]) | Values : tensor([[-0.0427, -0.0343,  0.0308,  ..., -0.0144,  0.0040, -0.0194],\n",
      "        [ 0.0383, -0.0039, -0.0211,  ..., -0.0130,  0.0323,  0.0126]],\n",
      "       device='mps:0', grad_fn=<SliceBackward0>) \n",
      "\n",
      "Layer: linear_relu_stack.2.bias | Size: torch.Size([512]) | Values : tensor([0.0062, 0.0384], device='mps:0', grad_fn=<SliceBackward0>) \n",
      "\n",
      "Layer: linear_relu_stack.4.weight | Size: torch.Size([10, 512]) | Values : tensor([[-0.0401,  0.0402,  0.0295,  ...,  0.0030, -0.0026,  0.0432],\n",
      "        [ 0.0050, -0.0073, -0.0137,  ..., -0.0024, -0.0345, -0.0029]],\n",
      "       device='mps:0', grad_fn=<SliceBackward0>) \n",
      "\n",
      "Layer: linear_relu_stack.4.bias | Size: torch.Size([10]) | Values : tensor([-0.0143, -0.0361], device='mps:0', grad_fn=<SliceBackward0>) \n",
      "\n"
     ]
    }
   ],
   "source": [
    "print(f\"Model structure: {model}\\n\\n\")\n",
    "\n",
    "for name, param in model.named_parameters():\n",
    "    print(f\"Layer: {name} | Size: {param.size()} | Values : {param[:2]} \\n\")"
   ]
  },
  {
   "cell_type": "code",
   "execution_count": null,
   "metadata": {},
   "outputs": [],
   "source": []
  }
 ],
 "metadata": {
  "kernelspec": {
   "display_name": "aiagents",
   "language": "python",
   "name": "python3"
  },
  "language_info": {
   "codemirror_mode": {
    "name": "ipython",
    "version": 3
   },
   "file_extension": ".py",
   "mimetype": "text/x-python",
   "name": "python",
   "nbconvert_exporter": "python",
   "pygments_lexer": "ipython3",
   "version": "3.11.11"
  }
 },
 "nbformat": 4,
 "nbformat_minor": 2
}
