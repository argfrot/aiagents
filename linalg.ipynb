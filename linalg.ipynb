{
 "cells": [
  {
   "cell_type": "code",
   "execution_count": 31,
   "metadata": {},
   "outputs": [
    {
     "name": "stdout",
     "output_type": "stream",
     "text": [
      "Matrix A:\n",
      "[[1 2]\n",
      " [3 4]]\n",
      "\n",
      "Matrix B:\n",
      "[[ 5  6  7]\n",
      " [ 7 80  9]\n",
      " [ 9 10 22]]\n"
     ]
    }
   ],
   "source": [
    "import numpy as np\n",
    "import matplotlib.pyplot as plt\n",
    "\n",
    "A = np.array([[1,2],[3,4]])\n",
    "B = np.array([[5,6,7],[7,80,9],[9,10,22]])\n",
    "\n",
    "print(\"Matrix A:\")\n",
    "print(A)\n",
    "print(\"\\nMatrix B:\")\n",
    "print(B)"
   ]
  },
  {
   "cell_type": "code",
   "execution_count": 32,
   "metadata": {},
   "outputs": [
    {
     "name": "stdout",
     "output_type": "stream",
     "text": [
      "\n",
      "Determinant of Matrix A: -2.0000000000000004\n",
      "\n",
      "Inverse of Matrix A:\n",
      " [[-2.   1. ]\n",
      " [ 1.5 -0.5]]\n",
      "\n",
      "Determinant of Matrix B: 3362.0000000000014\n",
      "\n",
      "Inverse of Matrix B:\n",
      " [[ 0.49672814 -0.0184414  -0.15050565]\n",
      " [-0.02171327  0.01397977  0.00118977]\n",
      " [-0.1933373   0.00118977  0.10648424]]\n"
     ]
    }
   ],
   "source": [
    "# determinant of A\n",
    "det_A = np.linalg.det(A)\n",
    "print(\"\\nDeterminant of Matrix A:\", det_A)\n",
    "# inverse of A\n",
    "inv_A = np.linalg.inv(A)\n",
    "print(\"\\nInverse of Matrix A:\\n\", inv_A)\n",
    "\n",
    "# determinant of B\n",
    "det_B = np.linalg.det(B)\n",
    "print(\"\\nDeterminant of Matrix B:\", det_B)\n",
    "# inverse of B\n",
    "inv_B = np.linalg.inv(B)\n",
    "print(\"\\nInverse of Matrix B:\\n\", inv_B)"
   ]
  },
  {
   "cell_type": "code",
   "execution_count": 33,
   "metadata": {},
   "outputs": [
    {
     "name": "stdout",
     "output_type": "stream",
     "text": [
      "Determinant of Matrix A: -2\n",
      "Determinant of Matrix B: 3362\n",
      "B[0,0]*B[1,1]*B[2,2]=8800\n",
      "B[0,1]*B[1,2]*B[2,0]=486\n",
      "B[0,2]*B[1,0]*B[2,1]=490\n",
      "B[0,0]*B[1,2]*B[2,1]=450\n",
      "B[0,1]*B[1,0]*B[2,2]=924\n",
      "B[0,2]*B[1,1]*B[2,0]=5040\n"
     ]
    }
   ],
   "source": [
    "det_A = A[0,0]*A[1,1] - A[0,1]*A[1,0]\n",
    "print(\"Determinant of Matrix A:\", det_A)\n",
    "\n",
    "det_B = B[0,0]*B[1,1]*B[2,2] + B[0,1]*B[1,2]*B[2,0] + B[0,2]*B[1,0]*B[2,1] - B[0,0]*B[1,2]*B[2,1] - B[0,1]*B[1,0]*B[2,2] - B[0,2]*B[1,1]*B[2,0]\n",
    "print(f\"Determinant of Matrix B: {det_B}\")\n",
    "print(f'{B[0,0]*B[1,1]*B[2,2]=}\\n{B[0,1]*B[1,2]*B[2,0]=}\\n{B[0,2]*B[1,0]*B[2,1]=}\\n{B[0,0]*B[1,2]*B[2,1]=}\\n{B[0,1]*B[1,0]*B[2,2]=}\\n{B[0,2]*B[1,1]*B[2,0]=}')"
   ]
  },
  {
   "cell_type": "markdown",
   "metadata": {},
   "source": [
    "Calculating the determinant of a matrix using the formulae (where $A_{\\backslash i,\\backslash j}$ means the matrix with row i and column j removed):\n",
    "\n",
    "$$ \\begin{align}\n",
    "|A| &= \\sum_{i=1}^{n} (-1)^{i+j} a_{ij} |A_{\\backslash i,\\backslash j}| \\\\\n",
    "    &= \\sum_{j=1}^{n} (-1)^{i+j} a_{ij} |A_{\\backslash i,\\backslash j}|\n",
    "\\end{align} $$"
   ]
  },
  {
   "cell_type": "code",
   "execution_count": 37,
   "metadata": {},
   "outputs": [
    {
     "name": "stdout",
     "output_type": "stream",
     "text": [
      "Determinant of Matrix A: -2\n",
      "Determinant of Matrix B: 3362\n"
     ]
    }
   ],
   "source": [
    "def determinant(mat):\n",
    "    n = len(mat)\n",
    "    if n == 1:\n",
    "        return mat[0][0]\n",
    "    else:\n",
    "        det = 0\n",
    "        i = 0\n",
    "        j = 0\n",
    "        for i in range(n): # this works whether on each row (i) or each column (j)\n",
    "            sub_mat = np.delete(mat, i, axis=0)       # delete the i-th row\n",
    "            sub_mat = np.delete(sub_mat, j, axis=1)   # delete the j-th column\n",
    "            sign = (-1)**(i+j)\n",
    "            det += sign * mat[i][j] * determinant(sub_mat)\n",
    "        return det\n",
    "    \n",
    "print(\"Determinant of Matrix A:\", determinant(A))\n",
    "print(\"Determinant of Matrix B:\", determinant(B))"
   ]
  },
  {
   "cell_type": "markdown",
   "metadata": {},
   "source": [
    "The classical adjoint, or just adjoint, of a matrix has elements defined as by the formula:\n",
    "\n",
    "$$ (\\text{adj}(A))_{ij} = (-1)^{i+j} \\det(A_{\\backslash j,\\backslash i}) $$\n",
    "\n",
    "This can be used to compute the inverse of a matrix. The inverse of a matrix is defined as:\n",
    "\n",
    "$$ \\text{A}^{-1} = \\frac{1}{\\det(\\text{A})} \\text{adj}(\\text{A}) $$"
   ]
  },
  {
   "cell_type": "code",
   "execution_count": 51,
   "metadata": {},
   "outputs": [
    {
     "name": "stdout",
     "output_type": "stream",
     "text": [
      "Inverse of Matrix A:\n",
      " [[-2.   1. ]\n",
      " [ 1.5 -0.5]]\n",
      "Inverse of Matrix B:\n",
      " [[ 0.49672814 -0.0184414  -0.15050565]\n",
      " [-0.02171327  0.01397977  0.00118977]\n",
      " [-0.1933373   0.00118977  0.10648424]]\n",
      "Inverse A:\n",
      "[[-2.   1. ]\n",
      " [ 1.5 -0.5]]\n",
      "Inverse B:\n",
      "[[ 0.49672814 -0.0184414  -0.15050565]\n",
      " [-0.02171327  0.01397977  0.00118977]\n",
      " [-0.1933373   0.00118977  0.10648424]]\n"
     ]
    }
   ],
   "source": [
    "def adjoint(mat):\n",
    "    n = len(mat)\n",
    "    adj = np.zeros((n, n))\n",
    "    for i in range(n):\n",
    "        for j in range(n):\n",
    "            sub_mat = np.delete(mat, j, axis=0)       # delete the j-th row\n",
    "            sub_mat = np.delete(sub_mat, i, axis=1)   # delete the i-th column\n",
    "            sign = (-1)**(i+j)\n",
    "            adj[i][j] = sign * determinant(sub_mat)\n",
    "    return adj\n",
    "\n",
    "print(\"Inverse of Matrix A:\\n\", np.linalg.inv(A))\n",
    "print(\"Inverse of Matrix B:\\n\", np.linalg.inv(B))\n",
    "\n",
    "print(f'Inverse A:\\n{adjoint(A)/determinant(A)}')\n",
    "print(f'Inverse B:\\n{adjoint(B)/determinant(B)}')"
   ]
  }
 ],
 "metadata": {
  "kernelspec": {
   "display_name": "aiagents",
   "language": "python",
   "name": "python3"
  },
  "language_info": {
   "codemirror_mode": {
    "name": "ipython",
    "version": 3
   },
   "file_extension": ".py",
   "mimetype": "text/x-python",
   "name": "python",
   "nbconvert_exporter": "python",
   "pygments_lexer": "ipython3",
   "version": "3.11.11"
  }
 },
 "nbformat": 4,
 "nbformat_minor": 2
}
