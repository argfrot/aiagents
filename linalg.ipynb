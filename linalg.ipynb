{
 "cells": [
  {
   "cell_type": "code",
   "execution_count": 31,
   "metadata": {},
   "outputs": [
    {
     "name": "stdout",
     "output_type": "stream",
     "text": [
      "Matrix A:\n",
      "[[1 2]\n",
      " [3 4]]\n",
      "\n",
      "Matrix B:\n",
      "[[ 5  6  7]\n",
      " [ 7 80  9]\n",
      " [ 9 10 22]]\n"
     ]
    }
   ],
   "source": [
    "import numpy as np\n",
    "import matplotlib.pyplot as plt\n",
    "\n",
    "A = np.array([[1,2],[3,4]])\n",
    "B = np.array([[5,6,7],[7,80,9],[9,10,22]])\n",
    "\n",
    "print(\"Matrix A:\")\n",
    "print(A)\n",
    "print(\"\\nMatrix B:\")\n",
    "print(B)"
   ]
  },
  {
   "cell_type": "code",
   "execution_count": 32,
   "metadata": {},
   "outputs": [
    {
     "name": "stdout",
     "output_type": "stream",
     "text": [
      "\n",
      "Determinant of Matrix A: -2.0000000000000004\n",
      "\n",
      "Inverse of Matrix A:\n",
      " [[-2.   1. ]\n",
      " [ 1.5 -0.5]]\n",
      "\n",
      "Determinant of Matrix B: 3362.0000000000014\n",
      "\n",
      "Inverse of Matrix B:\n",
      " [[ 0.49672814 -0.0184414  -0.15050565]\n",
      " [-0.02171327  0.01397977  0.00118977]\n",
      " [-0.1933373   0.00118977  0.10648424]]\n"
     ]
    }
   ],
   "source": [
    "# determinant of A\n",
    "det_A = np.linalg.det(A)\n",
    "print(\"\\nDeterminant of Matrix A:\", det_A)\n",
    "# inverse of A\n",
    "inv_A = np.linalg.inv(A)\n",
    "print(\"\\nInverse of Matrix A:\\n\", inv_A)\n",
    "\n",
    "# determinant of B\n",
    "det_B = np.linalg.det(B)\n",
    "print(\"\\nDeterminant of Matrix B:\", det_B)\n",
    "# inverse of B\n",
    "inv_B = np.linalg.inv(B)\n",
    "print(\"\\nInverse of Matrix B:\\n\", inv_B)"
   ]
  },
  {
   "cell_type": "code",
   "execution_count": 33,
   "metadata": {},
   "outputs": [
    {
     "name": "stdout",
     "output_type": "stream",
     "text": [
      "Determinant of Matrix A: -2\n",
      "Determinant of Matrix B: 3362\n",
      "B[0,0]*B[1,1]*B[2,2]=8800\n",
      "B[0,1]*B[1,2]*B[2,0]=486\n",
      "B[0,2]*B[1,0]*B[2,1]=490\n",
      "B[0,0]*B[1,2]*B[2,1]=450\n",
      "B[0,1]*B[1,0]*B[2,2]=924\n",
      "B[0,2]*B[1,1]*B[2,0]=5040\n"
     ]
    }
   ],
   "source": [
    "det_A = A[0,0]*A[1,1] - A[0,1]*A[1,0]\n",
    "print(\"Determinant of Matrix A:\", det_A)\n",
    "\n",
    "det_B = B[0,0]*B[1,1]*B[2,2] + B[0,1]*B[1,2]*B[2,0] + B[0,2]*B[1,0]*B[2,1] - B[0,0]*B[1,2]*B[2,1] - B[0,1]*B[1,0]*B[2,2] - B[0,2]*B[1,1]*B[2,0]\n",
    "print(f\"Determinant of Matrix B: {det_B}\")\n",
    "print(f'{B[0,0]*B[1,1]*B[2,2]=}\\n{B[0,1]*B[1,2]*B[2,0]=}\\n{B[0,2]*B[1,0]*B[2,1]=}\\n{B[0,0]*B[1,2]*B[2,1]=}\\n{B[0,1]*B[1,0]*B[2,2]=}\\n{B[0,2]*B[1,1]*B[2,0]=}')"
   ]
  },
  {
   "cell_type": "markdown",
   "metadata": {},
   "source": [
    "Calculating the determinant of a matrix using the formulae (where $A_{\\backslash i,\\backslash j}$ means the matrix with row i and column j removed):\n",
    "\n",
    "$$ \\begin{align}\n",
    "|A| &= \\sum_{i=1}^{n} (-1)^{i+j} a_{ij} |A_{\\backslash i,\\backslash j}| \\\\\n",
    "    &= \\sum_{j=1}^{n} (-1)^{i+j} a_{ij} |A_{\\backslash i,\\backslash j}|\n",
    "\\end{align} $$"
   ]
  },
  {
   "cell_type": "code",
   "execution_count": 37,
   "metadata": {},
   "outputs": [
    {
     "name": "stdout",
     "output_type": "stream",
     "text": [
      "Determinant of Matrix A: -2\n",
      "Determinant of Matrix B: 3362\n"
     ]
    }
   ],
   "source": [
    "def determinant(mat):\n",
    "    n = len(mat)\n",
    "    if n == 1:\n",
    "        return mat[0][0]\n",
    "    else:\n",
    "        det = 0\n",
    "        i = 0\n",
    "        j = 0\n",
    "        for i in range(n): # this works whether on each row (i) or each column (j)\n",
    "            sub_mat = np.delete(mat, i, axis=0)       # delete the i-th row\n",
    "            sub_mat = np.delete(sub_mat, j, axis=1)   # delete the j-th column\n",
    "            sign = (-1)**(i+j)\n",
    "            det += sign * mat[i][j] * determinant(sub_mat)\n",
    "        return det\n",
    "    \n",
    "print(\"Determinant of Matrix A:\", determinant(A))\n",
    "print(\"Determinant of Matrix B:\", determinant(B))"
   ]
  },
  {
   "cell_type": "markdown",
   "metadata": {},
   "source": [
    "The classical adjoint, or just adjoint, of a matrix has elements defined as by the formula:\n",
    "\n",
    "$$ (\\text{adj}(A))_{ij} = (-1)^{i+j} \\det(A_{\\backslash j,\\backslash i}) $$\n",
    "\n",
    "This can be used to compute the inverse of a matrix. The inverse of a matrix is defined as:\n",
    "\n",
    "$$ \\text{A}^{-1} = \\frac{1}{\\det(\\text{A})} \\text{adj}(\\text{A}) $$"
   ]
  },
  {
   "cell_type": "code",
   "execution_count": 51,
   "metadata": {},
   "outputs": [
    {
     "name": "stdout",
     "output_type": "stream",
     "text": [
      "Inverse of Matrix A:\n",
      " [[-2.   1. ]\n",
      " [ 1.5 -0.5]]\n",
      "Inverse of Matrix B:\n",
      " [[ 0.49672814 -0.0184414  -0.15050565]\n",
      " [-0.02171327  0.01397977  0.00118977]\n",
      " [-0.1933373   0.00118977  0.10648424]]\n",
      "Inverse A:\n",
      "[[-2.   1. ]\n",
      " [ 1.5 -0.5]]\n",
      "Inverse B:\n",
      "[[ 0.49672814 -0.0184414  -0.15050565]\n",
      " [-0.02171327  0.01397977  0.00118977]\n",
      " [-0.1933373   0.00118977  0.10648424]]\n"
     ]
    }
   ],
   "source": [
    "def adjoint(mat):\n",
    "    n = len(mat)\n",
    "    adj = np.zeros((n, n))\n",
    "    for i in range(n):\n",
    "        for j in range(n):\n",
    "            sub_mat = np.delete(mat, j, axis=0)       # delete the j-th row\n",
    "            sub_mat = np.delete(sub_mat, i, axis=1)   # delete the i-th column\n",
    "            sign = (-1)**(i+j)\n",
    "            adj[i][j] = sign * determinant(sub_mat)\n",
    "    return adj\n",
    "\n",
    "print(\"Inverse of Matrix A:\\n\", np.linalg.inv(A))\n",
    "print(\"Inverse of Matrix B:\\n\", np.linalg.inv(B))\n",
    "\n",
    "print(f'Inverse A:\\n{adjoint(A)/determinant(A)}')\n",
    "print(f'Inverse B:\\n{adjoint(B)/determinant(B)}')"
   ]
  },
  {
   "cell_type": "code",
   "execution_count": 65,
   "metadata": {},
   "outputs": [
    {
     "name": "stdout",
     "output_type": "stream",
     "text": [
      "[[1 3]\n",
      " [2 4]] \n",
      " @ \n",
      "[[1 2]\n",
      " [3 4]] \n",
      " = \n",
      "[[10 14]\n",
      " [14 20]]\n"
     ]
    }
   ],
   "source": [
    "gram = A.T @ A\n",
    "print(f'{A.T} \\n @ \\n{A} \\n = \\n{gram}')"
   ]
  },
  {
   "cell_type": "markdown",
   "metadata": {},
   "source": [
    "Eigenvalues $\\lambda$ satisfy the following equation:\n",
    "\n",
    "$$ \\det(\\lambda I - A) = 0 $$\n",
    "\n",
    "Alternatively, this can also be written as:\n",
    "\n",
    "$$ \\det(A - \\lambda I) = 0 $$\n",
    "\n",
    "\n",
    "$\\lambda I - A$ is a square matrix with $n$ rows and $n$ columns.\n",
    "\n",
    "$$ \\lambda I - A = \\begin{pmatrix} \\lambda - A_{1,1} & -A_{1,2} & -A_{1,3} \\\\ -A_{2,1} & \\lambda - A_{2,2} & -A_{2,3} \\\\ -A_{3,1} & -A_{3,2} & \\lambda - A_{3,3} \\end{pmatrix} $$\n",
    "\n",
    "$$ |A| = \\sum_{i=1}^{n} (-1)^{i+j} a_{ij} |A_{\\backslash i,\\backslash j}| $$\n",
    "\n",
    "Eigenvalues and eigenvectors satisfy the following equation:\n",
    "\n",
    "$$ Ax = \\lambda x $$\n",
    "\n",
    "where $x$ is a non-zero vector called an eigenvector.\n"
   ]
  },
  {
   "cell_type": "code",
   "execution_count": 185,
   "metadata": {},
   "outputs": [
    {
     "name": "stdout",
     "output_type": "stream",
     "text": [
      "Eigenvalues of A:\n",
      " [-0.37228132  5.37228132]\n",
      "Eigenvectors of A:\n",
      " [[-0.82456484 -0.41597356]\n",
      " [ 0.56576746 -0.90937671]]\n",
      "\n",
      "|A - λI|=-1.250741480074576e-16\n",
      "|λI - A|=-1.250741480074576e-16\n",
      "\n",
      " -- AX = XΛ --\n",
      "A@eigenvectors=array([[ 0.30697009, -2.23472698],\n",
      "       [-0.21062466, -4.88542751]])\n",
      "eigenvectors @ np.diag(eigenvalues)=array([[ 0.30697009, -2.23472698],\n",
      "       [-0.21062466, -4.88542751]])\n",
      "\n",
      " -- Ax = λx --\n",
      "A @ eigenvectors.T[0]=array([ 0.30697009, -0.21062466])\n",
      "eigenvectors.T[0]*eigenvalues[0]=array([ 0.30697009, -0.21062466])\n",
      "\n",
      " -- trA == Σλ --\n",
      "A.trace()=5\n",
      "sum(eigenvalues)=5.0\n",
      "\n",
      " -- |B| == Πλ --\n",
      "np.linalg.det(A)=-2.0000000000000004\n",
      "np.prod(eigenvalues)=-1.9999999999999998\n"
     ]
    }
   ],
   "source": [
    "# eigenvalues and eigenvectors of A\n",
    "eigenvalues, eigenvectors = np.linalg.eig(A)\n",
    "print(\"Eigenvalues of A:\\n\", eigenvalues)\n",
    "print(\"Eigenvectors of A:\\n\", eigenvectors)\n",
    "\n",
    "# compute the determinant of A - lambda I and lambda I - A\n",
    "lambda_val = eigenvalues[0]  # choose any eigenvalue for demonstration\n",
    "det_lambdaI_minus_A = np.linalg.det(lambda_val * np.eye(2) - A)\n",
    "det_A_minus_lambdaI = np.linalg.det(A - lambda_val * np.eye(2))\n",
    "\n",
    "print()\n",
    "print(f'|A - λI|={det_A_minus_lambdaI}')\n",
    "print(f'|λI - A|={det_lambdaI_minus_A}')\n",
    "\n",
    "# AX = XΛ, where X is a matrix of eigenvectors in each column and Λ is the diagonal matrix of eigenvalues\n",
    "print('\\n -- AX = XΛ --')\n",
    "print(f'{A@eigenvectors=}')\n",
    "print(f'{eigenvectors @ np.diag(eigenvalues)=}')\n",
    "\n",
    "# Ax = λx, where x is an eigenvector of A and λ is the corresponding eigenvalue\n",
    "print('\\n -- Ax = λx --')\n",
    "print(f'{A @ eigenvectors.T[0]=}')\n",
    "print(f'{eigenvectors.T[0]*eigenvalues[0]=}')\n",
    "\n",
    "print('\\n -- trA == Σλ --')\n",
    "print(f'{A.trace()=}')\n",
    "print(f'{sum(eigenvalues)=}')\n",
    "\n",
    "print('\\n -- |B| == Πλ --')\n",
    "print(f'{np.linalg.det(A)=}')\n",
    "print(f'{np.prod(eigenvalues)=}')"
   ]
  },
  {
   "cell_type": "code",
   "execution_count": 183,
   "metadata": {},
   "outputs": [
    {
     "name": "stdout",
     "output_type": "stream",
     "text": [
      "Eigenvalues of B:\n",
      " [82.27693518  1.78110307 22.94196175]\n",
      "Eigenvectors of B:\n",
      " [[-0.09206393 -0.91967128  0.30301203]\n",
      " [-0.980016    0.03732471 -0.1846442 ]\n",
      " [-0.17633171  0.39091126  0.93492793]]\n",
      "\n",
      "|B - λI|=-2.8073291467676186e-11\n",
      "|λI - B|=2.8073291467676186e-11\n",
      "\n",
      " -- BX = XΛ --\n",
      "B@eigenvectors_B=array([[-7.57473763e+00, -1.63802933e+00,  6.95169048e+00],\n",
      "       [-8.06327129e+01,  6.64791552e-02, -4.23610007e+00],\n",
      "       [-1.45080330e+01,  6.96253237e-01,  2.14490807e+01]])\n",
      "eigenvectors_B @ np.diag(eigenvalues_B)=array([[-7.57473763e+00, -1.63802933e+00,  6.95169048e+00],\n",
      "       [-8.06327129e+01,  6.64791552e-02, -4.23610007e+00],\n",
      "       [-1.45080330e+01,  6.96253237e-01,  2.14490807e+01]])\n",
      "\n",
      " -- Bx = λx --\n",
      "B @ eigenvectors_B.T[0]=array([ -7.57473763, -80.6327129 , -14.50803305])\n",
      "eigenvectors_B.T[0]*eigenvalues_B[0]=array([ -7.57473763, -80.6327129 , -14.50803305])\n",
      "\n",
      " -- trB == Σλ --\n",
      "B.trace()=107\n",
      "sum(eigenvalues_B)=107.00000000000001\n",
      "\n",
      " -- |B| == Πλ --\n",
      "np.linalg.det(B)=3362.0000000000014\n",
      "np.prod(eigenvalues_B)=3362.0000000000045\n"
     ]
    }
   ],
   "source": [
    "# eigenvalues and eigenvectors of B\n",
    "eigenvalues_B, eigenvectors_B = np.linalg.eig(B)\n",
    "print(\"Eigenvalues of B:\\n\", eigenvalues_B)\n",
    "print(\"Eigenvectors of B:\\n\", eigenvectors_B)\n",
    "\n",
    "# compute the determinant of B - lambda I and lambda I - B\n",
    "lambda_val = eigenvalues_B[0]  # choose any eigenvalue for demonstration\n",
    "det_lambdaI_minus_B = np.linalg.det(lambda_val * np.eye(len(B)) - B)\n",
    "det_B_minus_lambdaI = np.linalg.det(B - lambda_val * np.eye(len(B)))\n",
    "\n",
    "print()\n",
    "print(f'|B - λI|={det_B_minus_lambdaI}')\n",
    "print(f'|λI - B|={det_lambdaI_minus_B}')\n",
    "\n",
    "# BX = XΛ, where X is a matrix of eigenvectors in each column and Λ is the diagonal matrix of eigenvalues\n",
    "print('\\n -- BX = XΛ --')\n",
    "print(f'{B@eigenvectors_B=}')\n",
    "print(f'{eigenvectors_B @ np.diag(eigenvalues_B)=}')\n",
    "\n",
    "# Bx = λx, where x is an eigenvector of B and λ is the corresponding eigenvalue\n",
    "print('\\n -- Bx = λx --')\n",
    "print(f'{B @ eigenvectors_B.T[0]=}')\n",
    "print(f'{eigenvectors_B.T[0]*eigenvalues_B[0]=}')\n",
    "\n",
    "print('\\n -- trB == Σλ --')\n",
    "print(f'{B.trace()=}')\n",
    "print(f'{sum(eigenvalues_B)=}')\n",
    "\n",
    "print('\\n -- |B| == Πλ --')\n",
    "print(f'{np.linalg.det(B)=}')\n",
    "print(f'{np.prod(eigenvalues_B)=}')"
   ]
  },
  {
   "cell_type": "markdown",
   "metadata": {},
   "source": [
    "$$ A = X \\Lambda X^{-1} $$"
   ]
  },
  {
   "cell_type": "code",
   "execution_count": 187,
   "metadata": {},
   "outputs": [
    {
     "name": "stdout",
     "output_type": "stream",
     "text": [
      "[[1 2]\n",
      " [3 4]]\n",
      "[[1. 2.]\n",
      " [3. 4.]]\n",
      "[[ 5  6  7]\n",
      " [ 7 80  9]\n",
      " [ 9 10 22]]\n",
      "[[ 5.  6.  7.]\n",
      " [ 7. 80.  9.]\n",
      " [ 9. 10. 22.]]\n"
     ]
    }
   ],
   "source": [
    "print(A)\n",
    "print(eigenvectors @ np.diag(eigenvalues) @ np.linalg.inv(eigenvectors))\n",
    "\n",
    "print(B)\n",
    "print(eigenvectors_B @ np.diag(eigenvalues_B) @ np.linalg.inv(eigenvectors_B))"
   ]
  },
  {
   "cell_type": "markdown",
   "metadata": {},
   "source": [
    "$ \\nabla_x f(Ax) = \\begin{bmatrix} \\frac{\\partial_x f(Ax)}{\\partial_{x_1}} \\\\ \\frac{\\partial_x f(Ax)}{\\partial_{x_2}} \\\\ \\vdots \\\\ \\frac{\\partial_x f(Ax)}{\\partial_{x_n}} \\end{bmatrix} $\n",
    "\n",
    "$ (Ax)_{i} = \\sum_{j=1}^n \\sum_{i=1}^n A_{ji} x_i = \\sum_{i=1}^n a_j x_i = a_j x $\n",
    "\n",
    "$ \\frac{\\partial_x f(Ax)}{\\partial_{x_i}} = a_j $\n",
    "\n",
    "$a_j$ is the column vector of $A$. Therefore,\n",
    "\n",
    "$ \\nabla_x f(Ax) = A $"
   ]
  },
  {
   "cell_type": "code",
   "execution_count": 193,
   "metadata": {},
   "outputs": [
    {
     "name": "stdout",
     "output_type": "stream",
     "text": [
      "[17 39]\n",
      "A[0][0] * x[0] = 1 * 5\n",
      "A[0][1] * x[1] = 2 * 6\n",
      "A[1][0] * x[0] = 3 * 5\n",
      "A[1][1] * x[1] = 4 * 6\n",
      "[17 39]\n"
     ]
    }
   ],
   "source": [
    "def matrix_vector_product(A, x):\n",
    "    return np.dot(A, x)\n",
    "\n",
    "def matrix_vector_product_basic(A, x):\n",
    "    result = np.zeros_like(x)\n",
    "    for i in range(len(x)):\n",
    "        for j in range(len(x)):\n",
    "            print(f'A[{i}][{j}] * x[{j}] = {A[i][j]} * {x[j]}')\n",
    "            result[i] += A[i][j] * x[j]\n",
    "    return result\n",
    "\n",
    "A1 = np.array([[1, 2], [3, 4]])\n",
    "x1 = np.array([5, 6])\n",
    "\n",
    "print(matrix_vector_product(A1, x1))\n",
    "print(matrix_vector_product_basic(A1, x1))"
   ]
  }
 ],
 "metadata": {
  "kernelspec": {
   "display_name": "aiagents",
   "language": "python",
   "name": "python3"
  },
  "language_info": {
   "codemirror_mode": {
    "name": "ipython",
    "version": 3
   },
   "file_extension": ".py",
   "mimetype": "text/x-python",
   "name": "python",
   "nbconvert_exporter": "python",
   "pygments_lexer": "ipython3",
   "version": "3.11.11"
  }
 },
 "nbformat": 4,
 "nbformat_minor": 2
}
